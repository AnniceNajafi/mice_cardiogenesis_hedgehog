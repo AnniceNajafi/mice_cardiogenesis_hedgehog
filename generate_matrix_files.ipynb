{
 "cells": [
  {
   "cell_type": "markdown",
   "id": "da8c22b6",
   "metadata": {},
   "source": [
    "<h2>Converting h5ad files to Seurat objects</h2><br>\n",
    "@author Annice Najafi<br>\n",
    "Date: 19 May 2024<br>\n",
    "Description: Short script for converting h5ad files to Seurat objects"
   ]
  },
  {
   "cell_type": "markdown",
   "id": "c6e6a735",
   "metadata": {},
   "source": [
    "Load relevant libraries"
   ]
  },
  {
   "cell_type": "code",
   "execution_count": 79,
   "id": "0c7f7664",
   "metadata": {},
   "outputs": [],
   "source": [
    "import scanpy as sc\n",
    "from scipy import io"
   ]
  },
  {
   "cell_type": "markdown",
   "id": "b0cdade4",
   "metadata": {},
   "source": [
    "Create a directory to store iles"
   ]
  },
  {
   "cell_type": "code",
   "execution_count": 88,
   "id": "2d358440",
   "metadata": {},
   "outputs": [],
   "source": [
    "!mkdir mice_cardiogenesis_hedgehog/data/matrix_files"
   ]
  },
  {
   "cell_type": "markdown",
   "id": "110be1ef",
   "metadata": {},
   "source": [
    "Read data"
   ]
  },
  {
   "cell_type": "code",
   "execution_count": 89,
   "id": "7db92dbe",
   "metadata": {},
   "outputs": [],
   "source": [
    "#annot_data = sc.read_h5ad(\"/Users/annicenajafi/Downloads/E10.5_E1S3.MOSTA.h5ad\")\n",
    "annot_data = sc.read_h5ad(\"/Users/annicenajafi/Downloads/E11.5_E1S2.MOSTA.h5ad\")"
   ]
  },
  {
   "cell_type": "code",
   "execution_count": 90,
   "id": "cd823e8f",
   "metadata": {},
   "outputs": [],
   "source": [
    "with open('mice_cardiogenesis_hedgehog/data/matrix_files/barcodes.tsv', 'w') as f:\n",
    "    for item in annot_data.obs.index:\n",
    "        f.write(item + '\\n')"
   ]
  },
  {
   "cell_type": "code",
   "execution_count": 91,
   "id": "f06644d3",
   "metadata": {},
   "outputs": [],
   "source": [
    "with open('mice_cardiogenesis_hedgehog/data/matrix_files/features.tsv', 'w') as f:\n",
    "    for item in ['\\t'.join([x, x, 'Gene Expression']) for x in annot_data.var.index]:\n",
    "        f.write(item + '\\n')"
   ]
  },
  {
   "cell_type": "code",
   "execution_count": 92,
   "id": "f589fa86",
   "metadata": {},
   "outputs": [],
   "source": [
    "io.mmwrite('mice_cardiogenesis_hedgehog/data/matrix_files/matrix', annot_data.X.T)"
   ]
  },
  {
   "cell_type": "code",
   "execution_count": 93,
   "id": "0a93aa27",
   "metadata": {
    "scrolled": false
   },
   "outputs": [],
   "source": [
    "!gzip mice_cardiogenesis_hedgehog/data/matrix_files/*"
   ]
  },
  {
   "cell_type": "code",
   "execution_count": 94,
   "id": "925876f9",
   "metadata": {},
   "outputs": [],
   "source": [
    "annot_data.obs.to_csv('mice_cardiogenesis_hedgehog/data/metadata.csv')"
   ]
  },
  {
   "cell_type": "code",
   "execution_count": 110,
   "id": "70d65a99",
   "metadata": {},
   "outputs": [
    {
     "data": {
      "text/plain": [
       "Index(['132_345', '132_346', '132_347', '132_348', '132_349', '132_350',\n",
       "       '132_351', '132_352', '132_353', '132_354',\n",
       "       ...\n",
       "       '315_367', '315_368', '315_369', '315_370', '315_371', '315_372',\n",
       "       '315_373', '315_374', '315_375', '315_376'],\n",
       "      dtype='object', name='cell_name', length=30756)"
      ]
     },
     "execution_count": 110,
     "metadata": {},
     "output_type": "execute_result"
    }
   ],
   "source": [
    "annot_data.obs.index"
   ]
  },
  {
   "cell_type": "code",
   "execution_count": null,
   "id": "8efc21fe",
   "metadata": {},
   "outputs": [],
   "source": []
  }
 ],
 "metadata": {
  "kernelspec": {
   "display_name": "Python 3",
   "language": "python",
   "name": "python3"
  },
  "language_info": {
   "codemirror_mode": {
    "name": "ipython",
    "version": 3
   },
   "file_extension": ".py",
   "mimetype": "text/x-python",
   "name": "python",
   "nbconvert_exporter": "python",
   "pygments_lexer": "ipython3",
   "version": "3.8.8"
  }
 },
 "nbformat": 4,
 "nbformat_minor": 5
}
